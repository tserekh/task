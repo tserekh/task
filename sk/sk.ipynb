{
 "cells": [
  {
   "cell_type": "code",
   "execution_count": 15,
   "metadata": {},
   "outputs": [],
   "source": [
    "import pandas as pd\n",
    "import numpy as np\n",
    "from collections import defaultdict\n",
    "from tqdm import tqdm\n",
    "import time"
   ]
  },
  {
   "cell_type": "code",
   "execution_count": 16,
   "metadata": {},
   "outputs": [],
   "source": [
    "from incident import incident"
   ]
  },
  {
   "cell_type": "code",
   "execution_count": 17,
   "metadata": {},
   "outputs": [],
   "source": [
    "def brute_force(dT, filename):\n",
    "    \n",
    "    df = pd.read_csv(filename,dtype={'id':np.int32})\n",
    "    conter_list = []\n",
    "    id_list = []\n",
    "    for i,row1 in tqdm(df.iterrows()):\n",
    "        counter = 0\n",
    "        for j,row2 in df.iterrows():\n",
    "            if min(row1.iloc[1:-1]==row2.iloc[1:-1]) and (row1['id']!=row2['id']):\n",
    "                if 0<(row1['time'] - row2['time'])<=dT:\n",
    "                    counter+=1\n",
    "        conter_list.append(counter)\n",
    "    return conter_list"
   ]
  },
  {
   "cell_type": "code",
   "execution_count": 18,
   "metadata": {},
   "outputs": [],
   "source": [
    "M = 2\n",
    "N = 70\n",
    "df = pd.DataFrame({'feature1':np.random.randint(M, size=(N,)),\n",
    "                 'feature2':np.random.randint(M, size=(N,)),\n",
    "                 'time':np.random.rand(N)\n",
    "                  })\n",
    "df.index.name = 'id'\n",
    "df.to_csv('test1.csv')\n",
    "\n",
    "M = 5\n",
    "N = 50\n",
    "df = pd.DataFrame({'feature1':np.random.randint(M, size=(N,)),\n",
    "                 'feature2':np.random.randint(M, size=(N,)),\n",
    "                 'time':np.random.rand(N)\n",
    "                  })\n",
    "df.index.name = 'id'\n",
    "df.to_csv('test2.csv')\n",
    "\n",
    "M = 100\n",
    "N = int(1e6)\n",
    "df = pd.DataFrame({'feature1':np.random.randint(M, size=(N,)),\n",
    "                 'feature2':np.random.randint(M, size=(N,)),\n",
    "                 'time':np.random.rand(N)\n",
    "                  })\n",
    "df.index.name = 'id'\n",
    "df.to_csv('resourse_test.csv')"
   ]
  },
  {
   "cell_type": "code",
   "execution_count": 5,
   "metadata": {},
   "outputs": [
    {
     "name": "stderr",
     "output_type": "stream",
     "text": [
      "70it [00:02, 30.48it/s]\n",
      "10it [00:00, 46.19it/s]"
     ]
    },
    {
     "name": "stdout",
     "output_type": "stream",
     "text": [
      "ok\n"
     ]
    },
    {
     "name": "stderr",
     "output_type": "stream",
     "text": [
      "50it [00:01, 46.19it/s]"
     ]
    },
    {
     "name": "stdout",
     "output_type": "stream",
     "text": [
      "ok\n"
     ]
    },
    {
     "name": "stderr",
     "output_type": "stream",
     "text": [
      "\n"
     ]
    }
   ],
   "source": [
    "for M,dT, filename in [(3,0.3,'test1.csv'),(5,0.1,'test2.csv')]:\n",
    "    incident(dT, filename)\n",
    "    conter_list = brute_force(dT, filename)\n",
    "    df_output = pd.read_csv('output.csv')\n",
    "    df_output['check']=conter_list\n",
    "    if (df_output['count']==df_output['check']).min():\n",
    "        print('ok')"
   ]
  },
  {
   "cell_type": "code",
   "execution_count": 8,
   "metadata": {},
   "outputs": [
    {
     "name": "stderr",
     "output_type": "stream",
     "text": [
      "70it [00:02, 31.95it/s]\n"
     ]
    }
   ],
   "source": [
    "dT = 0.3\n",
    "filename = 'test1.csv'\n",
    "\n",
    "incident(dT, filename)\n",
    "conter_list = brute_force(dT, filename)\n",
    "df_output = pd.read_csv('output.csv')\n",
    "df_output['check']=conter_list\n",
    "# self.assertTrue((df_output['count']==df_output['check']).min())\n"
   ]
  },
  {
   "cell_type": "code",
   "execution_count": 10,
   "metadata": {},
   "outputs": [
    {
     "data": {
      "text/plain": [
       "True"
      ]
     },
     "execution_count": 10,
     "metadata": {},
     "output_type": "execute_result"
    }
   ],
   "source": [
    "((df_output['count']==df_output['check']).min())"
   ]
  },
  {
   "cell_type": "code",
   "execution_count": 13,
   "metadata": {},
   "outputs": [],
   "source": [
    "import unittest\n",
    "\n",
    "class TestStringMethods(unittest.TestCase):\n",
    "    def test1(self):\n",
    "        dT = 0.3\n",
    "        filename = 'test1.csv'\n",
    "\n",
    "        incident(dT, filename)\n",
    "        conter_list = brute_force(dT, filename)\n",
    "        df_output = pd.read_csv('output.csv')\n",
    "        df_output['check']=conter_list\n",
    "        self.assertFalse((df_output['count']==df_output['check']).min())\n"
   ]
  },
  {
   "cell_type": "code",
   "execution_count": 14,
   "metadata": {},
   "outputs": [
    {
     "name": "stderr",
     "output_type": "stream",
     "text": [
      "E\n",
      "======================================================================\n",
      "ERROR: /home/local/X5/artem (unittest.loader._FailedTest)\n",
      "----------------------------------------------------------------------\n",
      "AttributeError: module '__main__' has no attribute '/home/local/X5/artem'\n",
      "\n",
      "----------------------------------------------------------------------\n",
      "Ran 1 test in 0.001s\n",
      "\n",
      "FAILED (errors=1)\n"
     ]
    },
    {
     "ename": "SystemExit",
     "evalue": "True",
     "output_type": "error",
     "traceback": [
      "An exception has occurred, use %tb to see the full traceback.\n",
      "\u001b[0;31mSystemExit\u001b[0m\u001b[0;31m:\u001b[0m True\n"
     ]
    },
    {
     "name": "stderr",
     "output_type": "stream",
     "text": [
      "/home/local/X5/artem.tserekh/.conda/envs/myclone/lib/python3.6/site-packages/IPython/core/interactiveshell.py:3304: UserWarning: To exit: use 'exit', 'quit', or Ctrl-D.\n",
      "  warn(\"To exit: use 'exit', 'quit', or Ctrl-D.\", stacklevel=1)\n"
     ]
    }
   ],
   "source": [
    "unittest.main()"
   ]
  },
  {
   "cell_type": "code",
   "execution_count": 91,
   "metadata": {},
   "outputs": [
    {
     "name": "stdout",
     "output_type": "stream",
     "text": [
      "295016\n",
      "5.837092399597168\n"
     ]
    }
   ],
   "source": [
    "t1 = time.time()\n",
    "incident(M=100,dT=0.3, filename='resourse_test.csv')\n",
    "print(time.time()-t1)"
   ]
  },
  {
   "cell_type": "code",
   "execution_count": 89,
   "metadata": {},
   "outputs": [
    {
     "name": "stderr",
     "output_type": "stream",
     "text": [
      "10it [00:00, 48.00it/s]"
     ]
    },
    {
     "name": "stdout",
     "output_type": "stream",
     "text": [
      "50\n"
     ]
    },
    {
     "name": "stderr",
     "output_type": "stream",
     "text": [
      "50it [00:01, 48.49it/s]\n"
     ]
    },
    {
     "data": {
      "text/plain": [
       "[1,\n",
       " 0,\n",
       " 0,\n",
       " 0,\n",
       " 1,\n",
       " 0,\n",
       " 0,\n",
       " 0,\n",
       " 0,\n",
       " 0,\n",
       " 0,\n",
       " 0,\n",
       " 0,\n",
       " 0,\n",
       " 0,\n",
       " 0,\n",
       " 0,\n",
       " 0,\n",
       " 0,\n",
       " 0,\n",
       " 0,\n",
       " 0,\n",
       " 0,\n",
       " 0,\n",
       " 0,\n",
       " 1,\n",
       " 1,\n",
       " 0,\n",
       " 0,\n",
       " 1,\n",
       " 0,\n",
       " 0,\n",
       " 0,\n",
       " 1,\n",
       " 0,\n",
       " 1,\n",
       " 0,\n",
       " 0,\n",
       " 0,\n",
       " 0,\n",
       " 0,\n",
       " 1,\n",
       " 1,\n",
       " 0,\n",
       " 2,\n",
       " 0,\n",
       " 0,\n",
       " 0,\n",
       " 0,\n",
       " 0]"
      ]
     },
     "execution_count": 89,
     "metadata": {},
     "output_type": "execute_result"
    }
   ],
   "source": [
    "brute_force(M, dT, filename)"
   ]
  },
  {
   "cell_type": "code",
   "execution_count": 54,
   "metadata": {},
   "outputs": [
    {
     "data": {
      "text/plain": [
       "(5, 0.1, 'test2.csv')"
      ]
     },
     "execution_count": 54,
     "metadata": {},
     "output_type": "execute_result"
    }
   ],
   "source": [
    "M, dT, filename"
   ]
  },
  {
   "cell_type": "code",
   "execution_count": 80,
   "metadata": {},
   "outputs": [],
   "source": [
    "import psutil"
   ]
  },
  {
   "cell_type": "code",
   "execution_count": 83,
   "metadata": {},
   "outputs": [],
   "source": [
    "import os"
   ]
  },
  {
   "cell_type": "code",
   "execution_count": 84,
   "metadata": {},
   "outputs": [],
   "source": [
    "process = psutil.Process(os.getpid())"
   ]
  },
  {
   "cell_type": "code",
   "execution_count": 86,
   "metadata": {},
   "outputs": [
    {
     "name": "stdout",
     "output_type": "stream",
     "text": [
      "337301504\n"
     ]
    }
   ],
   "source": [
    "print(process.memory_info().rss) "
   ]
  },
  {
   "cell_type": "code",
   "execution_count": 30,
   "metadata": {},
   "outputs": [],
   "source": []
  },
  {
   "cell_type": "code",
   "execution_count": 31,
   "metadata": {},
   "outputs": [
    {
     "name": "stdout",
     "output_type": "stream",
     "text": [
      "ok\n"
     ]
    }
   ],
   "source": []
  }
 ],
 "metadata": {
  "kernelspec": {
   "display_name": "Python 3",
   "language": "python",
   "name": "python3"
  },
  "language_info": {
   "codemirror_mode": {
    "name": "ipython",
    "version": 3
   },
   "file_extension": ".py",
   "mimetype": "text/x-python",
   "name": "python",
   "nbconvert_exporter": "python",
   "pygments_lexer": "ipython3",
   "version": "3.6.8"
  }
 },
 "nbformat": 4,
 "nbformat_minor": 2
}
